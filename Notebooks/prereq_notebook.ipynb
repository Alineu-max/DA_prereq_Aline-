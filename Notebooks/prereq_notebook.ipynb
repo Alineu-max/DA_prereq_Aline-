{
 "cells": [
  {
   "cell_type": "code",
   "execution_count": 2,
   "id": "7e77d678",
   "metadata": {},
   "outputs": [
    {
     "name": "stdout",
     "output_type": "stream",
     "text": [
      " Hello, CodeYou\n"
     ]
    }
   ],
   "source": [
    "print(\" Hello, CodeYou\")"
   ]
  },
  {
   "cell_type": "markdown",
   "id": "519df6c4",
   "metadata": {},
   "source": [
    "Hello! My name is Aline, I am excited to learn Data analysis because I want to grow my skills and become confident using technology in real_world projects."
   ]
  }
 ],
 "metadata": {
  "kernelspec": {
   "display_name": "base",
   "language": "python",
   "name": "python3"
  },
  "language_info": {
   "codemirror_mode": {
    "name": "ipython",
    "version": 3
   },
   "file_extension": ".py",
   "mimetype": "text/x-python",
   "name": "python",
   "nbconvert_exporter": "python",
   "pygments_lexer": "ipython3",
   "version": "3.13.5"
  }
 },
 "nbformat": 4,
 "nbformat_minor": 5
}
